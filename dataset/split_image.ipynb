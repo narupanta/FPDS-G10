{
 "cells": [
  {
   "cell_type": "code",
   "execution_count": null,
   "metadata": {},
   "outputs": [],
   "source": [
    "from PIL import Image\n",
    "import os\n",
    "\n",
    "def split_image(image_path, image_name, output_dir, tile_size=(512, 512)):\n",
    "    # Load the image\n",
    "    img = Image.open(image_path)\n",
    "    img_width, img_height = img.size\n",
    "    tile_width, tile_height = tile_size\n",
    "    \n",
    "    # Ensure the output directory exists\n",
    "    os.makedirs(output_dir, exist_ok=True)\n",
    "    \n",
    "    # Iterate over the large image to create smaller tiles\n",
    "    index_top = 0\n",
    "    for top in range(0, img_height, tile_height):\n",
    "        index_left = 0\n",
    "        for left in range(0, img_width, tile_width):\n",
    "            # Define the box to crop\n",
    "            if left + tile_width > img_width:\n",
    "                left = img_width - tile_width\n",
    "            if top + tile_height > img_height :\n",
    "                top = img_height - tile_height\n",
    "            box = (left, top, left + tile_width, top + tile_height)\n",
    "            tile = img.crop(box)\n",
    "            # Save the tile\n",
    "            tile_filename = f\"{image_name.rstrip('.jpg')}{index_top}{index_left}.png\"\n",
    "            tile.save(os.path.join(output_dir, tile_filename))\n",
    "            print(f\"Saved {tile_filename}\")\n",
    "            index_left += 1\n",
    "        index_top += 1\n",
    "\n",
    "# Example usage\n",
    "image_path = \"./raw_dataset\" # Path to the large image\n",
    "image_names = [\"train_img_1.jpg\", \"train_img_2.jpg\", \"train_img_3.jpg\"]\n",
    "\n",
    "output_dir = \"./split_raw_dataset\"   # Directory to save the tiles\n",
    "for image_name in image_names :\n",
    "    split_image(os.path.join(image_path, image_name), image_name, output_dir, tile_size=(512, 512))"
   ]
  }
 ],
 "metadata": {
  "kernelspec": {
   "display_name": "dev",
   "language": "python",
   "name": "python3"
  },
  "language_info": {
   "name": "python",
   "version": "3.13.1"
  }
 },
 "nbformat": 4,
 "nbformat_minor": 2
}
